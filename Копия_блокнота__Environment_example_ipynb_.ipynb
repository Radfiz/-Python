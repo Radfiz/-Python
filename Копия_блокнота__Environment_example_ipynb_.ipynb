{
  "nbformat": 4,
  "nbformat_minor": 0,
  "metadata": {
    "colab": {
      "provenance": []
    },
    "kernelspec": {
      "name": "python3",
      "display_name": "Python 3"
    },
    "language_info": {
      "name": "python"
    }
  },
  "cells": [
    {
      "cell_type": "code",
      "execution_count": 51,
      "metadata": {
        "id": "MXXTuy_o0sjk",
        "colab": {
          "base_uri": "https://localhost:8080/"
        },
        "outputId": "c205acd7-4cff-481f-9402-045c4f41efff"
      },
      "outputs": [
        {
          "output_type": "stream",
          "name": "stderr",
          "text": [
            "/usr/local/lib/python3.10/dist-packages/ipykernel/ipkernel.py:283: DeprecationWarning: `should_run_async` will not call `transform_cell` automatically in the future. Please pass the result to `transformed_cell` argument and any exception that happen during thetransform in `preprocessing_exc_tuple` in IPython 7.17 and above.\n",
            "  and should_run_async(code)\n"
          ]
        }
      ],
      "source": [
        "!pip install -q -U kaggle_environments"
      ]
    },
    {
      "cell_type": "code",
      "source": [
        "import numpy as np\n",
        "import pandas as pd\n",
        "import random\n",
        "\n",
        "import matplotlib.pyplot as plt\n",
        "import seaborn as sns\n",
        "\n",
        "from kaggle_environments import make, evaluate"
      ],
      "metadata": {
        "id": "yz23vWHD0wcj"
      },
      "execution_count": 52,
      "outputs": []
    },
    {
      "cell_type": "markdown",
      "source": [
        "Опишем поведение агента, всегда играющего \"камень\" - это значение 0"
      ],
      "metadata": {
        "id": "0kuo6IOxiRub"
      }
    },
    {
      "cell_type": "code",
      "source": [
        "%%writefile rock_agent.py\n",
        "#только камень\n",
        "def your_agent(observation, configuration):\n",
        "    return 0"
      ],
      "metadata": {
        "id": "bqTqV7B92rJ6",
        "colab": {
          "base_uri": "https://localhost:8080/"
        },
        "outputId": "dbf7afeb-0d00-4e49-c8d7-1990783eb64e"
      },
      "execution_count": 53,
      "outputs": [
        {
          "output_type": "stream",
          "name": "stdout",
          "text": [
            "Overwriting rock_agent.py\n"
          ]
        }
      ]
    },
    {
      "cell_type": "code",
      "source": [
        "%%writefile paper_agent.py\n",
        "# только бумага\n",
        "def paper(observation, configuration):\n",
        "    return 1"
      ],
      "metadata": {
        "colab": {
          "base_uri": "https://localhost:8080/"
        },
        "id": "C4yOmY-RCYNb",
        "outputId": "5fc57c37-c8bc-475f-f6ef-0b2f9cc28159"
      },
      "execution_count": 54,
      "outputs": [
        {
          "output_type": "stream",
          "name": "stdout",
          "text": [
            "Overwriting paper_agent.py\n"
          ]
        }
      ]
    },
    {
      "cell_type": "code",
      "source": [
        "%%writefile scissors_agent.py\n",
        "# только ножницы\n",
        "def scissors(observation, configuration):\n",
        "    return 2"
      ],
      "metadata": {
        "colab": {
          "base_uri": "https://localhost:8080/"
        },
        "id": "a8AN1puSCAPK",
        "outputId": "7a772e23-46a0-46b1-b4cf-336ba0798a97"
      },
      "execution_count": 55,
      "outputs": [
        {
          "output_type": "stream",
          "name": "stdout",
          "text": [
            "Overwriting scissors_agent.py\n"
          ]
        }
      ]
    },
    {
      "cell_type": "code",
      "source": [
        "%%writefile random_rnp.py\n",
        "import random\n",
        "# слуйчайно выбирает между камнем и бумагой\n",
        "def random_rnp(observation, configuration):\n",
        "    return random.choice([0, 1])\n"
      ],
      "metadata": {
        "id": "7l6Ttw6qi0jk",
        "colab": {
          "base_uri": "https://localhost:8080/"
        },
        "outputId": "3e3e9eda-6bdd-4f2b-ac61-f4ac74adceed"
      },
      "execution_count": 70,
      "outputs": [
        {
          "output_type": "stream",
          "name": "stdout",
          "text": [
            "Writing random_rnp.py\n"
          ]
        }
      ]
    },
    {
      "cell_type": "code",
      "source": [
        "%%writefile random_rns.py\n",
        "import random\n",
        "# слуйчайно выбирает между камнем и ножницами\n",
        "def random_rns(observation, configuration):\n",
        "    return random.choice([0, 2])"
      ],
      "metadata": {
        "colab": {
          "base_uri": "https://localhost:8080/"
        },
        "id": "Bqt0yJEPplCH",
        "outputId": "c21e4fb6-8cd6-4001-f140-88ec94e4555f"
      },
      "execution_count": 69,
      "outputs": [
        {
          "output_type": "stream",
          "name": "stdout",
          "text": [
            "Writing random_rns.py\n"
          ]
        }
      ]
    },
    {
      "cell_type": "code",
      "source": [
        "%%writefile random_pns.py\n",
        "import random\n",
        "# слуйчайно выбирает между бумагой и ножницами\n",
        "def random_pns(observation, configuration):\n",
        "    return random.choice([1, 2])"
      ],
      "metadata": {
        "colab": {
          "base_uri": "https://localhost:8080/"
        },
        "id": "o4LMycIkqUeO",
        "outputId": "d0cfb133-af8f-4464-e4be-fb960453c4f9"
      },
      "execution_count": 68,
      "outputs": [
        {
          "output_type": "stream",
          "name": "stdout",
          "text": [
            "Writing random_pns.py\n"
          ]
        }
      ]
    },
    {
      "cell_type": "code",
      "source": [
        "%%writefile random_rnpns.py\n",
        "import random\n",
        "# слуйчайно выбирает между камнем, бумагой и ножницами\n",
        "def random_rnpns(observation, configuration):\n",
        "    return random.choice([0, 1, 2])"
      ],
      "metadata": {
        "colab": {
          "base_uri": "https://localhost:8080/"
        },
        "id": "LMgHfmKkspnq",
        "outputId": "ed7ba573-b72a-4287-fd84-0616d00d80ce"
      },
      "execution_count": 73,
      "outputs": [
        {
          "output_type": "stream",
          "name": "stdout",
          "text": [
            "Writing random_rnpns.py\n"
          ]
        }
      ]
    },
    {
      "cell_type": "code",
      "source": [
        "%%writefile parity_rock.py\n",
        "# если ход четный то камень, если нечетный бумага\n",
        "def parity_rock(observation, configuration):\n",
        "    if observation.step % 2 == 0:\n",
        "        return 0\n",
        "    else:\n",
        "        return 1"
      ],
      "metadata": {
        "colab": {
          "base_uri": "https://localhost:8080/"
        },
        "id": "1LSNJVn0CAqZ",
        "outputId": "50d60b80-297f-4e96-93c7-898d8d95c08c"
      },
      "execution_count": 97,
      "outputs": [
        {
          "output_type": "stream",
          "name": "stdout",
          "text": [
            "Overwriting parity_rock.py\n"
          ]
        }
      ]
    },
    {
      "cell_type": "code",
      "source": [
        "%%writefile parity_paper.py\n",
        "# если ход четный то бумага, если нечетный ножницы\n",
        "def parity_paper(observation, configuration):\n",
        "    if observation.step % 2 == 0:\n",
        "        return 1\n",
        "    else:\n",
        "        return 2"
      ],
      "metadata": {
        "colab": {
          "base_uri": "https://localhost:8080/"
        },
        "id": "WOEaKyacDiPW",
        "outputId": "aacd5edd-b09c-41db-b074-ec39345ae342"
      },
      "execution_count": 75,
      "outputs": [
        {
          "output_type": "stream",
          "name": "stdout",
          "text": [
            "Writing parity_paper.py\n"
          ]
        }
      ]
    },
    {
      "cell_type": "code",
      "source": [
        "%%writefile parity_scissors.py\n",
        "# если ход четный то ножницы, если нечетный бумага\n",
        "def parity_scissors(observation, configuration):\n",
        "    if observation.step % 2 == 0:\n",
        "        return 2\n",
        "    else:\n",
        "        return 1"
      ],
      "metadata": {
        "colab": {
          "base_uri": "https://localhost:8080/"
        },
        "id": "sQxyIfLsGK2S",
        "outputId": "d283411d-1840-4d7f-9255-8acd7c599d24"
      },
      "execution_count": 99,
      "outputs": [
        {
          "output_type": "stream",
          "name": "stdout",
          "text": [
            "Writing parity_scissors.py\n"
          ]
        }
      ]
    },
    {
      "cell_type": "code",
      "source": [
        "%%writefile all.py\n",
        "# чередует каждый ход с камня-бумага-ножницы\n",
        "def all(observation, configuration):\n",
        "    return (observation.step % 3)\n"
      ],
      "metadata": {
        "colab": {
          "base_uri": "https://localhost:8080/"
        },
        "id": "XM53vQ6LSSaf",
        "outputId": "001426e3-473c-4b3a-edc1-76c960d9f37a"
      },
      "execution_count": 110,
      "outputs": [
        {
          "output_type": "stream",
          "name": "stdout",
          "text": [
            "Writing all.py\n"
          ]
        },
        {
          "output_type": "stream",
          "name": "stderr",
          "text": [
            "/usr/local/lib/python3.10/dist-packages/ipykernel/ipkernel.py:283: DeprecationWarning: `should_run_async` will not call `transform_cell` automatically in the future. Please pass the result to `transformed_cell` argument and any exception that happen during thetransform in `preprocessing_exc_tuple` in IPython 7.17 and above.\n",
            "  and should_run_async(code)\n"
          ]
        }
      ]
    },
    {
      "cell_type": "code",
      "source": [
        "%%writefile last_step.py\n",
        "def last_step(observation, configuration):\n",
        "# повторяет последний ход оппонента\n",
        "    return observation.lastOpponentAction if observation.step > 0 else 0"
      ],
      "metadata": {
        "colab": {
          "base_uri": "https://localhost:8080/"
        },
        "id": "1UbGUVb5XTmE",
        "outputId": "672f07ca-48a4-44fb-ffeb-537696cadc7f"
      },
      "execution_count": 111,
      "outputs": [
        {
          "output_type": "stream",
          "name": "stdout",
          "text": [
            "Writing last_step.py\n"
          ]
        }
      ]
    },
    {
      "cell_type": "code",
      "source": [
        "%%writefile all_second_step.py\n",
        "def all_second_step(observation, configuration):\n",
        "# чередует каждый второй ход все действия\n",
        "    return (observation.step // 2) % 3"
      ],
      "metadata": {
        "colab": {
          "base_uri": "https://localhost:8080/"
        },
        "id": "kSWFuPgOkFw0",
        "outputId": "feb0f34e-5bc1-419e-cbdb-fda06ee9d4c7"
      },
      "execution_count": 119,
      "outputs": [
        {
          "output_type": "stream",
          "name": "stdout",
          "text": [
            "Writing all_second_step.py\n"
          ]
        }
      ]
    },
    {
      "cell_type": "markdown",
      "source": [
        "Воспользуемся функцией evaluate из библиотеки kaggle_environments с помощью которой запустим наших агентов и проведем эксперимент на заданном количестве игр"
      ],
      "metadata": {
        "id": "ExgIpXUVjbjN"
      }
    },
    {
      "cell_type": "markdown",
      "source": [],
      "metadata": {
        "id": "Y3JXGr53hvaI"
      }
    },
    {
      "cell_type": "code",
      "source": [
        "#функция на проверку работоспособности игроков\n",
        "agent= [\"last_step.py\",\"random_pns.py\"]\n",
        "res = evaluate(\n",
        "    \"rps\", #environment to use - no need to change\n",
        "    [agent[0], agent[1]], #agents to evaluate\n",
        "    configuration={\"episodeSteps\": 100},\n",
        "    debug=True\n",
        ")\n",
        "print(res)"
      ],
      "metadata": {
        "id": "FC6_QWe9k3rr",
        "colab": {
          "base_uri": "https://localhost:8080/"
        },
        "outputId": "f68824fe-9582-4786-9566-72d3fbf5b351"
      },
      "execution_count": 117,
      "outputs": [
        {
          "output_type": "stream",
          "name": "stdout",
          "text": [
            "[[0, 0]]\n"
          ]
        }
      ]
    },
    {
      "cell_type": "code",
      "source": [
        "#Симулирует матч между двумя игроками и возвращает победителя\n",
        "def play_match(player1, player2):\n",
        "    res = evaluate(\"rps\", #environment to use - no need to change\n",
        "    [player1, player2], #agents to evaluate\n",
        "    configuration={\"episodeSteps\": 100} #number of episodes\n",
        "    )\n",
        "    # Создаем таблицу где записываем результат матча для двух игроков, при победе присуждается 1 очко, при ничьей 0.5 каждому и о при проигрыше\n",
        "    table_win = {str(player1): 1 if res[0][0] > res[0][1] else (0.5 if res[0][0] == res[0][1] else 0),\n",
        "                 str(player2): 1 if res[0][1] > res[0][0] else (0.5 if res[0][1] == res[0][0] else 0)}\n",
        "    # Возвращем словарь\n",
        "    return table_win\n",
        "\n",
        "# Инициализация функции для турнирнйо сетки, чтобы игроки не играли сами с собой\n",
        "def tournament(players):\n",
        "    # Создаем список матчей\n",
        "    winners = []\n",
        "    # Инициализируем цикл подобно шахмотной таблице турнира\n",
        "    for i in range(len(players)):\n",
        "        # Инициализируем цикл для определение пар игроков, так чтобы не было матчей с самим собой\n",
        "        for k in range(i + 1, len(players)):\n",
        "            # Запускаем матч и добаваляем результаты в список матчей\n",
        "            winner = play_match(players[i], players[k])\n",
        "            winners.append(winner)\n",
        "    # print(winners) вывод всех матчей\n",
        "    return winners # возвращаем список\n",
        "\n",
        "# Инициализация функции для запуска турнира\n",
        "def table(players):\n",
        "    # Запускаем сетку турнира и возвращаем результаты в переменную tab\n",
        "    tab = tournament(players)\n",
        "    # Создаем словарь где будет храниться данные по каждому матчу\n",
        "    results = {}\n",
        "\n",
        "    # Инициализация результатов для каждого игрока через цикл и задаем начальное значение 0 для каждого игрока\n",
        "    for player in players:\n",
        "        results[player] = 0\n",
        "    # Подсчет побед для каждого игрока через цикл\n",
        "    for match_ in tab:\n",
        "    # Суммируем очки с помощью цикла по списку и записываем в результаты для каждого игрока\n",
        "        for player, score in match_.items():\n",
        "            results[player] += score\n",
        "    # Выводим спиок игроков и их очков\n",
        "    print(\"Таблица результатов:\")\n",
        "    for player, score in results.items():\n",
        "        print(f\"{player}: {score} очки\")\n",
        "\n",
        "# Вносим список участников по названию созданных ранее функций\n",
        "players = [\"scissors_agent.py\", \"paper_agent.py\", \"rock_agent.py\",\"random_rnpns.py\",\"random_pns.py\",\n",
        "           \"random_rns.py\",\"random_rnp.py\",\"parity_scissors.py\",\"parity_paper.py\",\"parity_rock.py\",\"all.py\",\"last_step.py\",\"all_second_step.py\"]\n",
        "\n",
        "# Запуск турнира\n",
        "table(players)"
      ],
      "metadata": {
        "id": "2MtczMQADsFv",
        "colab": {
          "base_uri": "https://localhost:8080/"
        },
        "outputId": "229bcd57-fd7f-42f2-8d0b-60e4ef80d09e"
      },
      "execution_count": 123,
      "outputs": [
        {
          "output_type": "stream",
          "name": "stdout",
          "text": [
            "Таблица результатов:\n",
            "scissors_agent.py: 6.5 очки\n",
            "paper_agent.py: 5.0 очки\n",
            "rock_agent.py: 6.5 очки\n",
            "random_rnpns.py: 6.5 очки\n",
            "random_pns.py: 5.0 очки\n",
            "random_rns.py: 7.0 очки\n",
            "random_rnp.py: 6.0 очки\n",
            "parity_scissors.py: 5.5 очки\n",
            "parity_paper.py: 6.0 очки\n",
            "parity_rock.py: 6.0 очки\n",
            "all.py: 6.5 очки\n",
            "last_step.py: 5.0 очки\n",
            "all_second_step.py: 6.5 очки\n"
          ]
        }
      ]
    },
    {
      "cell_type": "code",
      "source": [],
      "metadata": {
        "id": "gV74NlOKiOZX"
      },
      "execution_count": 60,
      "outputs": []
    }
  ]
}