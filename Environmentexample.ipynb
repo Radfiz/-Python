!pip install -q -U kaggle_environments

import numpy as np
import pandas as pd
import random
import matplotlib.pyplot as plt
import seaborn as sns
from kaggle_environments import make, evaluate

%%writefile rock_agent.py
#только камень
def your_agent(observation, configuration):
    return 0
%%writefile paper_agent.py
# только бумага
def paper(observation, configuration):
    return 1
%%writefile scissors_agent.py
# только ножницы
def scissors(observation, configuration):
    return 2
%%writefile random_rnp.py
import random
# слуйчайно выбирает между камнем и бумагой
def random_rnp(observation, configuration):
    return random.choice([0, 1])
%%writefile random_rns.py
import random
# слуйчайно выбирает между камнем и ножницами
def random_rns(observation, configuration):
    return random.choice([0, 2])
%%writefile random_pns.py
import random
# слуйчайно выбирает между бумагой и ножницами
def random_pns(observation, configuration):
    return random.choice([1, 2])
%%writefile random_rnpns.py
import random
# слуйчайно выбирает между камнем, бумагой и ножницами
def random_rnpns(observation, configuration):
    return random.choice([0, 1, 2])
%%writefile parity_rock.py
# если ход четный то камень, если нечетный бумага
def parity_rock(observation, configuration):
    if observation.step % 2 == 0:
        return 0  
    else:
        return 1
%%writefile parity_paper.py
# если ход четный то бумага, если нечетный ножницы
def parity_paper(observation, configuration):
    if observation.step % 2 == 0:
        return 1  
    else:
        return 2
%%writefile parity_scissors.py
# если ход четный то ножницы, если нечетный бумага
def parity_scissors(observation, configuration):
    if observation.step % 2 == 0:
        return 2  
    else:
        return 1
%%writefile all.py
# чередует каждый ход с камня-бумага-ножницы
def all(observation, configuration):
    return (observation.step % 3)
%%writefile last_step.py
def last_step(observation, configuration):
# повторяет последний ход оппонента 
    return observation.lastOpponentAction if observation.step > 0 else 0
%%writefile all_second_step.py
def all_second_step(observation, configuration):
# чередует каждый второй ход все действия
    return (observation.step // 2) % 3
#функция на проверку работоспособности игроков
agent= ["last_step.py","random_pns.py"]
res = evaluate(
    "rps", #environment to use - no need to change
    [agent[0], agent[1]], #agents to evaluate
    configuration={"episodeSteps": 100},
    debug=True
)
print(res)
#Симулирует матч между двумя игроками и возвращает победителя
def play_match(player1, player2):
    res = evaluate("rps", #environment to use - no need to change
    [player1, player2], #agents to evaluate
    configuration={"episodeSteps": 100} #number of episodes
    )
    # Создаем таблицу где записываем результат матча для двух игроков, при победе присуждается 1 очко, при ничьей 0.5 каждому и о при проигрыше
    table_win = {str(player1): 1 if res[0][0] > res[0][1] else (0.5 if res[0][0] == res[0][1] else 0),
                 str(player2): 1 if res[0][1] > res[0][0] else (0.5 if res[0][1] == res[0][0] else 0)}
    # Возвращем словарь
    return table_win

# Инициализация функции для турнирнйо сетки, чтобы игроки не играли сами с собой
def tournament(players):
    # Создаем список матчей
    winners = []
    # Инициализируем цикл подобно шахмотной таблице турнира 
    for i in range(len(players)):
        # Инициализируем цикл для определение пар игроков, так чтобы не было матчей с самим собой
        for k in range(i + 1, len(players)):
            # Запускаем матч и добаваляем результаты в список матчей
            winner = play_match(players[i], players[k])
            winners.append(winner)
    # print(winners) вывод всех матчей
    return winners # возвращаем список

# Инициализация функции для запуска турнира
def table(players):
    # Запускаем сетку турнира и возвращаем результаты в переменную tab
    tab = tournament(players)
    # Создаем словарь где будет храниться данные по каждому матчу 
    results = {}

    # Инициализация результатов для каждого игрока через цикл и задаем начальное значение 0 для каждого игрока
    for player in players:
        results[player] = 0
    # Подсчет побед для каждого игрока через цикл 
    for match_ in tab:
    # Суммируем очки с помощью цикла по списку и записываем в результаты для каждого игрока
        for player, score in match_.items():
            results[player] += score
    # Выводим спиок игроков и их очков
    print("Таблица результатов:")
    for player, score in results.items():
        print(f"{player}: {score} очки")

# Вносим список участников по названию созданных ранее функций
players = ["scissors_agent.py", "paper_agent.py", "rock_agent.py","random_rnpns.py","random_pns.py",
           "random_rns.py","random_rnp.py","parity_scissors.py","parity_paper.py","parity_rock.py","all.py","last_step.py","all_second_step.py"]

# Запуск турнира
table(players)
